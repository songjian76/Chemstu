{
 "cells": [
  {
   "cell_type": "code",
   "execution_count": 94,
   "metadata": {},
   "outputs": [],
   "source": [
    "from Bio.PDB.MMCIFParser import MMCIFParser\n",
    "parser = MMCIFParser()\n",
    "#导入mmcif结构文件\n",
    "structure = parser.get_structure('1d3z', '1d3z.cif')"
   ]
  },
  {
   "cell_type": "code",
   "execution_count": null,
   "metadata": {},
   "outputs": [],
   "source": [
    "help(structre)"
   ]
  },
  {
   "cell_type": "code",
   "execution_count": null,
   "metadata": {},
   "outputs": [],
   "source": [
    " for model in structure:\n",
    "     for chain in model:\n",
    "         for residue in chain:\n",
    "             for atom in residue:\n",
    "                 print(atom)"
   ]
  },
  {
   "cell_type": "code",
   "execution_count": 97,
   "metadata": {},
   "outputs": [
    {
     "data": {
      "text/plain": [
       "('1d3z',)"
      ]
     },
     "execution_count": 97,
     "metadata": {},
     "output_type": "execute_result"
    }
   ],
   "source": [
    "structure.get_full_id()"
   ]
  },
  {
   "cell_type": "code",
   "execution_count": 104,
   "metadata": {},
   "outputs": [],
   "source": [
    "model_list=structure.get_list()"
   ]
  },
  {
   "cell_type": "code",
   "execution_count": 105,
   "metadata": {},
   "outputs": [
    {
     "data": {
      "text/plain": [
       "[<Model id=0>,\n",
       " <Model id=1>,\n",
       " <Model id=2>,\n",
       " <Model id=3>,\n",
       " <Model id=4>,\n",
       " <Model id=5>,\n",
       " <Model id=6>,\n",
       " <Model id=7>,\n",
       " <Model id=8>,\n",
       " <Model id=9>]"
      ]
     },
     "execution_count": 105,
     "metadata": {},
     "output_type": "execute_result"
    }
   ],
   "source": [
    "model_list"
   ]
  },
  {
   "cell_type": "code",
   "execution_count": 107,
   "metadata": {},
   "outputs": [],
   "source": [
    "chain_list=model_list[0].get_list()"
   ]
  },
  {
   "cell_type": "code",
   "execution_count": 108,
   "metadata": {},
   "outputs": [
    {
     "data": {
      "text/plain": [
       "[<Chain id=A>]"
      ]
     },
     "execution_count": 108,
     "metadata": {},
     "output_type": "execute_result"
    }
   ],
   "source": [
    "chain_list"
   ]
  },
  {
   "cell_type": "code",
   "execution_count": 109,
   "metadata": {},
   "outputs": [],
   "source": [
    "res_list=chain_list[0].get_list()"
   ]
  },
  {
   "cell_type": "code",
   "execution_count": 110,
   "metadata": {},
   "outputs": [
    {
     "data": {
      "text/plain": [
       "[<Residue MET het=  resseq=1 icode= >,\n",
       " <Residue GLN het=  resseq=2 icode= >,\n",
       " <Residue ILE het=  resseq=3 icode= >,\n",
       " <Residue PHE het=  resseq=4 icode= >,\n",
       " <Residue VAL het=  resseq=5 icode= >,\n",
       " <Residue LYS het=  resseq=6 icode= >,\n",
       " <Residue THR het=  resseq=7 icode= >,\n",
       " <Residue LEU het=  resseq=8 icode= >,\n",
       " <Residue THR het=  resseq=9 icode= >,\n",
       " <Residue GLY het=  resseq=10 icode= >,\n",
       " <Residue LYS het=  resseq=11 icode= >,\n",
       " <Residue THR het=  resseq=12 icode= >,\n",
       " <Residue ILE het=  resseq=13 icode= >,\n",
       " <Residue THR het=  resseq=14 icode= >,\n",
       " <Residue LEU het=  resseq=15 icode= >,\n",
       " <Residue GLU het=  resseq=16 icode= >,\n",
       " <Residue VAL het=  resseq=17 icode= >,\n",
       " <Residue GLU het=  resseq=18 icode= >,\n",
       " <Residue PRO het=  resseq=19 icode= >,\n",
       " <Residue SER het=  resseq=20 icode= >,\n",
       " <Residue ASP het=  resseq=21 icode= >,\n",
       " <Residue THR het=  resseq=22 icode= >,\n",
       " <Residue ILE het=  resseq=23 icode= >,\n",
       " <Residue GLU het=  resseq=24 icode= >,\n",
       " <Residue ASN het=  resseq=25 icode= >,\n",
       " <Residue VAL het=  resseq=26 icode= >,\n",
       " <Residue LYS het=  resseq=27 icode= >,\n",
       " <Residue ALA het=  resseq=28 icode= >,\n",
       " <Residue LYS het=  resseq=29 icode= >,\n",
       " <Residue ILE het=  resseq=30 icode= >,\n",
       " <Residue GLN het=  resseq=31 icode= >,\n",
       " <Residue ASP het=  resseq=32 icode= >,\n",
       " <Residue LYS het=  resseq=33 icode= >,\n",
       " <Residue GLU het=  resseq=34 icode= >,\n",
       " <Residue GLY het=  resseq=35 icode= >,\n",
       " <Residue ILE het=  resseq=36 icode= >,\n",
       " <Residue PRO het=  resseq=37 icode= >,\n",
       " <Residue PRO het=  resseq=38 icode= >,\n",
       " <Residue ASP het=  resseq=39 icode= >,\n",
       " <Residue GLN het=  resseq=40 icode= >,\n",
       " <Residue GLN het=  resseq=41 icode= >,\n",
       " <Residue ARG het=  resseq=42 icode= >,\n",
       " <Residue LEU het=  resseq=43 icode= >,\n",
       " <Residue ILE het=  resseq=44 icode= >,\n",
       " <Residue PHE het=  resseq=45 icode= >,\n",
       " <Residue ALA het=  resseq=46 icode= >,\n",
       " <Residue GLY het=  resseq=47 icode= >,\n",
       " <Residue LYS het=  resseq=48 icode= >,\n",
       " <Residue GLN het=  resseq=49 icode= >,\n",
       " <Residue LEU het=  resseq=50 icode= >,\n",
       " <Residue GLU het=  resseq=51 icode= >,\n",
       " <Residue ASP het=  resseq=52 icode= >,\n",
       " <Residue GLY het=  resseq=53 icode= >,\n",
       " <Residue ARG het=  resseq=54 icode= >,\n",
       " <Residue THR het=  resseq=55 icode= >,\n",
       " <Residue LEU het=  resseq=56 icode= >,\n",
       " <Residue SER het=  resseq=57 icode= >,\n",
       " <Residue ASP het=  resseq=58 icode= >,\n",
       " <Residue TYR het=  resseq=59 icode= >,\n",
       " <Residue ASN het=  resseq=60 icode= >,\n",
       " <Residue ILE het=  resseq=61 icode= >,\n",
       " <Residue GLN het=  resseq=62 icode= >,\n",
       " <Residue LYS het=  resseq=63 icode= >,\n",
       " <Residue GLU het=  resseq=64 icode= >,\n",
       " <Residue SER het=  resseq=65 icode= >,\n",
       " <Residue THR het=  resseq=66 icode= >,\n",
       " <Residue LEU het=  resseq=67 icode= >,\n",
       " <Residue HIS het=  resseq=68 icode= >,\n",
       " <Residue LEU het=  resseq=69 icode= >,\n",
       " <Residue VAL het=  resseq=70 icode= >,\n",
       " <Residue LEU het=  resseq=71 icode= >,\n",
       " <Residue ARG het=  resseq=72 icode= >,\n",
       " <Residue LEU het=  resseq=73 icode= >,\n",
       " <Residue ARG het=  resseq=74 icode= >,\n",
       " <Residue GLY het=  resseq=75 icode= >,\n",
       " <Residue GLY het=  resseq=76 icode= >]"
      ]
     },
     "execution_count": 110,
     "metadata": {},
     "output_type": "execute_result"
    }
   ],
   "source": [
    "res_list"
   ]
  },
  {
   "cell_type": "code",
   "execution_count": 111,
   "metadata": {},
   "outputs": [],
   "source": [
    "res=res_list[0]"
   ]
  },
  {
   "cell_type": "code",
   "execution_count": 112,
   "metadata": {},
   "outputs": [
    {
     "data": {
      "text/plain": [
       "<Residue MET het=  resseq=1 icode= >"
      ]
     },
     "execution_count": 112,
     "metadata": {},
     "output_type": "execute_result"
    }
   ],
   "source": [
    "res"
   ]
  },
  {
   "cell_type": "code",
   "execution_count": 119,
   "metadata": {},
   "outputs": [],
   "source": [
    "atom_list=res.get_list()"
   ]
  },
  {
   "cell_type": "code",
   "execution_count": 120,
   "metadata": {},
   "outputs": [
    {
     "data": {
      "text/plain": [
       "[<Atom N>,\n",
       " <Atom CA>,\n",
       " <Atom C>,\n",
       " <Atom O>,\n",
       " <Atom CB>,\n",
       " <Atom CG>,\n",
       " <Atom SD>,\n",
       " <Atom CE>,\n",
       " <Atom H1>,\n",
       " <Atom H2>,\n",
       " <Atom H3>,\n",
       " <Atom HA>,\n",
       " <Atom HB2>,\n",
       " <Atom HB3>,\n",
       " <Atom HG2>,\n",
       " <Atom HG3>,\n",
       " <Atom HE1>,\n",
       " <Atom HE2>,\n",
       " <Atom HE3>]"
      ]
     },
     "execution_count": 120,
     "metadata": {},
     "output_type": "execute_result"
    }
   ],
   "source": [
    "atom_list"
   ]
  },
  {
   "cell_type": "code",
   "execution_count": 121,
   "metadata": {},
   "outputs": [
    {
     "data": {
      "text/plain": [
       "<Atom CA>"
      ]
     },
     "execution_count": 121,
     "metadata": {},
     "output_type": "execute_result"
    }
   ],
   "source": [
    "atom_list[1]"
   ]
  },
  {
   "cell_type": "code",
   "execution_count": 122,
   "metadata": {},
   "outputs": [
    {
     "data": {
      "text/plain": [
       "array([ 51.653, -89.304,   8.833], dtype=float32)"
      ]
     },
     "execution_count": 122,
     "metadata": {},
     "output_type": "execute_result"
    }
   ],
   "source": [
    "atom_list[1].coord"
   ]
  },
  {
   "cell_type": "code",
   "execution_count": 125,
   "metadata": {},
   "outputs": [
    {
     "name": "stdout",
     "output_type": "stream",
     "text": [
      "1-7.pdf\r\n",
      "1-s2.0-S1359644620300404-main.pdf\r\n",
      "1921856846673911_20200229.pdf\r\n",
      "1d3z.cif\r\n",
      "3-4.pdf\r\n",
      "\u001b[1m\u001b[36m3‘-rna\u001b[m\u001b[m/\r\n",
      "4R0EKWSU014-Alignment.txt\r\n",
      "\u001b[1m\u001b[36m6UEB\u001b[m\u001b[m/\r\n",
      "9052.sdf\r\n",
      "\u001b[1m\u001b[36mCHIKV  E结合MXRA8\u001b[m\u001b[m/\r\n",
      "Conformer3D_CID_16212242.sdf\r\n",
      "Corona_9_Preprint_.pdf\r\n",
      "FireShot Capture 009 - 未命名5 - Jupyter Notebook - localhost.png\r\n",
      "\u001b[1m\u001b[36mGitHub\u001b[m\u001b[m/\r\n",
      "\u001b[1m\u001b[36mKeyNote\u001b[m\u001b[m/\r\n",
      "\u001b[1m\u001b[36mLCY\u001b[m\u001b[m/\r\n",
      "Mole2_manual.pdf\r\n",
      "\u001b[1m\u001b[36mNS3蛋白酶抑制剂数据库\u001b[m\u001b[m/\r\n",
      "\u001b[1m\u001b[36mOneDrive - 365pro.plus\u001b[m\u001b[m/\r\n",
      "PubChem_compound_text_protease.csv\r\n",
      "\u001b[1m\u001b[36mPyDrug\u001b[m\u001b[m/\r\n",
      "\u001b[1m\u001b[36mPyDrug.0.4\u001b[m\u001b[m/\r\n",
      "PyDrug.0.4.xmind\r\n",
      "README_sample_scripts.txt\r\n",
      "\u001b[31m[悬崖上的金鱼姬][BD-720P-RMVB][国日双语中字][豆瓣8.2分][1.3GB][2008][www.btdx8.com].torrent\u001b[m\u001b[m*\r\n",
      "book.txt\r\n",
      "c++ and cheminformatics.pdf\r\n",
      "consurf_new.py\r\n",
      "consurf_new_CBS.py\r\n",
      "generate_resfile.py\r\n",
      "jdk-14_osx-x64_bin.dmg\r\n",
      "\u001b[1m\u001b[36mjr\u001b[m\u001b[m/\r\n",
      "mole_channels_9abIcUjfg0O9sziRo16JQ_1_pymol.py\r\n",
      "mutants.py\r\n",
      "nsp13_25_ro5.csv\r\n",
      "num_25 1.csv\r\n",
      "\u001b[1m\u001b[36mpengqi\u001b[m\u001b[m/\r\n",
      "\u001b[1m\u001b[36mplip-stable\u001b[m\u001b[m/\r\n",
      "\u001b[1m\u001b[36mrbd_ace2_B\u001b[m\u001b[m/\r\n",
      "\u001b[1m\u001b[36mrosetta\u001b[m\u001b[m/\r\n",
      "\u001b[1m\u001b[36mscan\u001b[m\u001b[m/\r\n",
      "singleton2007.pdf\r\n",
      "tbsd_a_1430619_sm5533.docx\r\n",
      "test.md\r\n",
      "thunder_mac.dmg\r\n",
      "\u001b[1m\u001b[36mzzn\u001b[m\u001b[m/\r\n",
      "\u001b[1m\u001b[36m推送\u001b[m\u001b[m/\r\n",
      "截屏2020-03-19下午11.22.16.png\r\n",
      "未确认 648985.crdownload\r\n",
      "报价单.pdf\r\n",
      "\u001b[1m\u001b[36m个人信息\u001b[m\u001b[m/\r\n",
      "\u001b[1m\u001b[36m冠状病毒\u001b[m\u001b[m/\r\n",
      "\u001b[1m\u001b[36m毕业论文\u001b[m\u001b[m/\r\n",
      "\u001b[1m\u001b[36m药物购买\u001b[m\u001b[m/\r\n",
      "\u001b[1m\u001b[36m青岛海洋\u001b[m\u001b[m/\r\n",
      "人民的希望相关申请说明-1.docx\r\n",
      "技术服务合同（苏佳岐）20200219.doc\r\n"
     ]
    }
   ],
   "source": [
    "ls"
   ]
  },
  {
   "cell_type": "code",
   "execution_count": 126,
   "metadata": {},
   "outputs": [
    {
     "data": {
      "text/plain": [
       "'/Users/sujiaqi/Desktop'"
      ]
     },
     "execution_count": 126,
     "metadata": {},
     "output_type": "execute_result"
    }
   ],
   "source": [
    "pwd"
   ]
  },
  {
   "cell_type": "code",
   "execution_count": null,
   "metadata": {},
   "outputs": [],
   "source": []
  }
 ],
 "metadata": {
  "kernelspec": {
   "display_name": "Python 3",
   "language": "python",
   "name": "python3"
  },
  "language_info": {
   "codemirror_mode": {
    "name": "ipython",
    "version": 3
   },
   "file_extension": ".py",
   "mimetype": "text/x-python",
   "name": "python",
   "nbconvert_exporter": "python",
   "pygments_lexer": "ipython3",
   "version": "3.7.4"
  }
 },
 "nbformat": 4,
 "nbformat_minor": 4
}
